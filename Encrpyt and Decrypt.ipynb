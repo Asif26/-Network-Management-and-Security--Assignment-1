{
 "cells": [
  {
   "cell_type": "code",
   "execution_count": 4,
   "id": "92d8c68c",
   "metadata": {},
   "outputs": [
    {
     "name": "stdout",
     "output_type": "stream",
     "text": [
      "Please select operation -\n",
      "1. Encryot\n",
      "2. Decrypt\n",
      "\n",
      "Select operations form 1, 2 : 2\n",
      "Wlecom to Decryption\n",
      "Enter your text   ali\n",
      "Text : ali\n",
      "Shift : 4\n",
      "Cipher: whe\n"
     ]
    }
   ],
   "source": [
    "def encrypt(text,s):\n",
    "    result = \"\"\n",
    " \n",
    "    \n",
    "    for i in range(len(text)):\n",
    "        char = text[i]\n",
    " \n",
    "        # Encrypt uppercase characters\n",
    "        if (char.isupper()):\n",
    "            result += chr((ord(char) + s-65) % 26 + 65)\n",
    " \n",
    "        # Encrypt lowercase characters\n",
    "        else:\n",
    "            result += chr((ord(char) + s - 97) % 26 + 97)\n",
    " \n",
    "    return result\n",
    " \n",
    "\n",
    "def decrypt(text,s):\n",
    "    result = \"\"\n",
    " \n",
    "    \n",
    "    for i in range(len(text)):\n",
    "        char = text[i]\n",
    " \n",
    "        # Encrypt uppercase characters\n",
    "        if (char.isupper()):\n",
    "            result += chr((ord(char) - s-65) % 26 + 65)\n",
    " \n",
    "        # Encrypt lowercase characters\n",
    "        else:\n",
    "            result += chr((ord(char) - s - 97) % 26 + 97)\n",
    " \n",
    "    return result\n",
    "print(\"Please select operation -\\n\" \\\n",
    "        \"1. Encryot\\n\" \\\n",
    "        \"2. Decrypt\\n\")\n",
    "select = int(input(\"Select operations form 1, 2 : \"))\n",
    "if select == 1:\n",
    "    print(\"Welcom to Encryption\")\n",
    "    text = str(input(\"Enter your text   \"))\n",
    "    s = 4\n",
    "    print( \"Text : \" + text)\n",
    "    print (\"Shift : \" + str(s))\n",
    "    print (\"Cipher: \" + encrypt(text,s))\n",
    "elif select == 2:\n",
    "    print(\"Wlecom to Decryption\")\n",
    "    text = str(input(\"Enter your text   \"))\n",
    "    s = 4\n",
    "    print( \"Text : \" + text)\n",
    "    print (\"Shift : \" + str(s))\n",
    "    print (\"Cipher: \" + decrypt(text,s))\n",
    "    \n",
    "else:\n",
    "    print(\"Invalid input\")\n",
    "\n",
    " \n"
   ]
  },
  {
   "cell_type": "code",
   "execution_count": null,
   "id": "d58fc930",
   "metadata": {},
   "outputs": [],
   "source": []
  }
 ],
 "metadata": {
  "kernelspec": {
   "display_name": "Python 3",
   "language": "python",
   "name": "python3"
  },
  "language_info": {
   "codemirror_mode": {
    "name": "ipython",
    "version": 3
   },
   "file_extension": ".py",
   "mimetype": "text/x-python",
   "name": "python",
   "nbconvert_exporter": "python",
   "pygments_lexer": "ipython3",
   "version": "3.8.8"
  }
 },
 "nbformat": 4,
 "nbformat_minor": 5
}
